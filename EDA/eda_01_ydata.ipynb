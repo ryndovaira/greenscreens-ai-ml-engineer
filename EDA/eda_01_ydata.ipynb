{
 "cells": [
  {
   "cell_type": "code",
   "execution_count": 1,
   "id": "ed44234a-3f27-4c6e-b677-f53fa613b87f",
   "metadata": {},
   "outputs": [
    {
     "name": "stderr",
     "output_type": "stream",
     "text": [
      "C:\\Users\\Mi\\Code\\greenscreens-ai-ml-engineer\\.venv\\Lib\\site-packages\\tqdm\\auto.py:21: TqdmWarning: IProgress not found. Please update jupyter and ipywidgets. See https://ipywidgets.readthedocs.io/en/stable/user_install.html\n",
      "  from .autonotebook import tqdm as notebook_tqdm\n"
     ]
    }
   ],
   "source": [
    "from ydata_profiling import ProfileReport\n",
    "\n",
    "from utils import eda_dir, train_df, validation_df, test_df"
   ]
  },
  {
   "cell_type": "markdown",
   "id": "d89c8f08-ac67-402d-94d3-34fc7f67ff73",
   "metadata": {},
   "source": [
    "## Automated EDA Report"
   ]
  },
  {
   "cell_type": "code",
   "execution_count": 2,
   "id": "e0aa800c-fb14-4435-bc8c-4e39ec10b5e4",
   "metadata": {
    "ExecuteTime": {
     "end_time": "2025-02-11T14:41:08.728538Z",
     "start_time": "2025-02-11T14:40:53.686865Z"
    }
   },
   "outputs": [
    {
     "name": "stdout",
     "output_type": "stream",
     "text": [
      "\n",
      "Dataset: Train\n"
     ]
    },
    {
     "name": "stderr",
     "output_type": "stream",
     "text": [
      "Summarize dataset: 100%|█████████████████████████████████████████████████████████████████████████████████████████████████████████████████| 25/25 [00:04<00:00,  5.32it/s, Completed]\n",
      "Generate report structure: 100%|██████████████████████████████████████████████████████████████████████████████████████████████████████████████████████| 1/1 [00:01<00:00,  1.94s/it]\n",
      "Render HTML: 100%|████████████████████████████████████████████████████████████████████████████████████████████████████████████████████████████████████| 1/1 [00:00<00:00,  1.19it/s]\n",
      "Export report to file: 100%|█████████████████████████████████████████████████████████████████████████████████████████████████████████████████████████| 1/1 [00:00<00:00, 165.23it/s]\n"
     ]
    },
    {
     "name": "stdout",
     "output_type": "stream",
     "text": [
      "EDA report saved at: C:\\Users\\Mi\\Code\\greenscreens-ai-ml-engineer\\EDA\\train_eda_report.html\n",
      "\n",
      "Dataset: Validation\n"
     ]
    },
    {
     "name": "stderr",
     "output_type": "stream",
     "text": [
      "Summarize dataset: 100%|█████████████████████████████████████████████████████████████████████████████████████████████████████████████████| 25/25 [00:01<00:00, 23.23it/s, Completed]\n",
      "Generate report structure: 100%|██████████████████████████████████████████████████████████████████████████████████████████████████████████████████████| 1/1 [00:01<00:00,  1.55s/it]\n",
      "Render HTML: 100%|████████████████████████████████████████████████████████████████████████████████████████████████████████████████████████████████████| 1/1 [00:00<00:00,  3.43it/s]\n",
      "Export report to file: 100%|█████████████████████████████████████████████████████████████████████████████████████████████████████████████████████████| 1/1 [00:00<00:00, 129.07it/s]\n"
     ]
    },
    {
     "name": "stdout",
     "output_type": "stream",
     "text": [
      "EDA report saved at: C:\\Users\\Mi\\Code\\greenscreens-ai-ml-engineer\\EDA\\validation_eda_report.html\n",
      "\n",
      "Dataset: Test\n"
     ]
    },
    {
     "name": "stderr",
     "output_type": "stream",
     "text": [
      "Summarize dataset: 100%|█████████████████████████████████████████████████████████████████████████████████████████████████████████████████| 19/19 [00:00<00:00, 29.55it/s, Completed]\n",
      "Generate report structure: 100%|██████████████████████████████████████████████████████████████████████████████████████████████████████████████████████| 1/1 [00:01<00:00,  1.46s/it]\n",
      "Render HTML: 100%|████████████████████████████████████████████████████████████████████████████████████████████████████████████████████████████████████| 1/1 [00:00<00:00,  5.16it/s]\n",
      "Export report to file: 100%|█████████████████████████████████████████████████████████████████████████████████████████████████████████████████████████| 1/1 [00:00<00:00, 122.59it/s]"
     ]
    },
    {
     "name": "stdout",
     "output_type": "stream",
     "text": [
      "EDA report saved at: C:\\Users\\Mi\\Code\\greenscreens-ai-ml-engineer\\EDA\\test_eda_report.html\n"
     ]
    },
    {
     "name": "stderr",
     "output_type": "stream",
     "text": [
      "\n"
     ]
    }
   ],
   "source": [
    "for x in (\"train\", \"validation\", \"test\"):\n",
    "    print(f\"\\nDataset: {x.capitalize()}\")\n",
    "    df = locals()[f\"{x}_df\"]\n",
    "    report_path = eda_dir / f\"{x}_eda_report.html\"\n",
    "    profile = ProfileReport(df,\n",
    "                            title=f\"{x.capitalize()} Dataset Report\",\n",
    "                            explorative=True)\n",
    "    profile.to_file(report_path)\n",
    "    print(f\"EDA report saved at: {report_path}\")"
   ]
  },
  {
   "cell_type": "markdown",
   "id": "53de1509-7be4-4232-a721-b34a917649db",
   "metadata": {},
   "source": [
    "## Train Dataset Report\n",
    "\n",
    "|                           Alerts                            |          |\n",
    "|:-----------------------------------------------------------:|:--------:|\n",
    "|           Dataset has 7630 (2.6%) duplicate rows\t           | Duplicates|\n",
    "| **rate** is highly overall correlated with **valid_miles**\t | High correlation|\n",
    "|       transport_type is highly imbalanced (73.9%): MKPFX: 93%, GJROY: 6%, KFEGT: 1%\t        | Imbalance|\n",
    "\n",
    "\n",
    "#### Выбросы (outliers)\n",
    "- rate > 10 (95-й перцентиль = 9.88, но максимум = 248.97).\n",
    "- valid_miles > 1,500 (95-й перцентиль = 1,421, но максимум = 2,876).\n",
    "- weight > 100,000 (максимум = 190,050).\n",
    "\n",
    "Вопросы:\n",
    "- Какие выбросы считаются аномальными, а какие — частью реальных данных?\n",
    "- Нужно ли их удалять, логарифмировать или обрабатывать иначе?\n",
    "- Как выбросы повлияют на модель, если оставить их как есть?\n",
    "\n",
    "#### (done) Дубликаты\n",
    "- 7,630 дубликатов (2.6%).\n",
    "\n",
    "\n",
    "####  Дисбаланс классов (imbalance)\n",
    "- transport_type сильно несбалансирован (MKPFX = 93%).\n",
    "\n",
    "Вопросы:\n",
    "- Должны ли мы балансировать классы?\n",
    "- Если да, то какой метод лучше: oversampling, undersampling или другой?\n",
    "- Может ли модель справиться с дисбалансом без дополнительной обработки?\n",
    "\n",
    "####  Кодирование категориальных переменных\n",
    "- origin_kma и destination_kma (135 уникальных значений).\n",
    "- transport_type (3 категории).\n",
    "\n",
    "Вопросы:\n",
    "- Какой метод кодирования лучше: one-hot, target encoding или другой?\n",
    "- Может ли origin_kma и destination_kma содержать полезную пространственную информацию, которую лучше сохранить другим способом?\n",
    "- Как кодирование повлияет на качество модели?"
   ]
  },
  {
   "cell_type": "code",
   "execution_count": null,
   "id": "22d037bb-73bd-4f46-8d03-cc9b8fd0ea48",
   "metadata": {},
   "outputs": [],
   "source": []
  }
 ],
 "metadata": {
  "kernelspec": {
   "display_name": ".venv",
   "language": "python",
   "name": ".venv"
  },
  "language_info": {
   "codemirror_mode": {
    "name": "ipython",
    "version": 3
   },
   "file_extension": ".py",
   "mimetype": "text/x-python",
   "name": "python",
   "nbconvert_exporter": "python",
   "pygments_lexer": "ipython3",
   "version": "3.12.6"
  }
 },
 "nbformat": 4,
 "nbformat_minor": 5
}
