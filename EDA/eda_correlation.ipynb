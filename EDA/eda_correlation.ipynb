{
 "cells": [
  {
   "cell_type": "markdown",
   "id": "80295f11-3d67-4bfc-ab89-9a03f758e876",
   "metadata": {},
   "source": [
    "# Import libraries"
   ]
  },
  {
   "cell_type": "code",
   "execution_count": 1,
   "id": "8b92bfdb-1fec-480d-9172-4e08134fff16",
   "metadata": {
    "ExecuteTime": {
     "end_time": "2025-02-11T14:40:53.324179Z",
     "start_time": "2025-02-11T14:40:53.302926Z"
    }
   },
   "outputs": [],
   "source": [
    "import numpy as np\n",
    "import pandas as pd\n",
    "\n",
    "import seaborn as sns\n",
    "sns.set_theme(style=\"whitegrid\")\n",
    "\n",
    "import plotly.express as px\n",
    "\n",
    "import matplotlib.pyplot as plt\n",
    "%matplotlib inline\n",
    "\n",
    "from sklearn.preprocessing import LabelEncoder\n",
    "from sklearn.feature_selection import mutual_info_regression\n",
    "from sklearn.linear_model import LinearRegression\n",
    "from sklearn.preprocessing import PolynomialFeatures\n",
    "\n",
    "import statsmodels.api as sm\n",
    "from statsmodels.graphics.tsaplots import plot_acf, plot_pacf\n",
    "from statsmodels.tsa.stattools import adfuller\n",
    "from statsmodels.tsa.seasonal import seasonal_decompose\n",
    "\n",
    "from utils import eda_train_path"
   ]
  },
  {
   "cell_type": "markdown",
   "id": "264f33fa-92de-4ed0-890a-5400e42a85c5",
   "metadata": {},
   "source": [
    "# Load datasets"
   ]
  },
  {
   "cell_type": "code",
   "execution_count": 2,
   "id": "b1c6ef7d-f27d-4332-93d7-dad08c2e9671",
   "metadata": {},
   "outputs": [],
   "source": [
    "train_df = pd.read_csv(eda_train_path)"
   ]
  },
  {
   "cell_type": "markdown",
   "id": "23107635-0b47-4913-bffc-61d3dd05f3d6",
   "metadata": {},
   "source": [
    "# Notes\n",
    "\n",
    "- Сильная отрицательная линейная корреляция valid_miles и rate (-0.698).\n",
    "- Слабая линейная корреляция weight и rate (-0.118).\n",
    "- Почти нулевая линейная корреляция transport_type и rate (0.024).\n",
    "Вопросы:\n",
    "- Нужно ли учитывать valid_miles в модели напрямую, или лучше использовать трансформации?\n",
    "- Если transport_type не коррелирует с rate, стоит ли его вообще использовать?\n",
    "- Как проверить, есть ли нелинейные корреляции, которых нет в стандартной корреляционной матрице?\n",
    "- Есть ли нелинейные зависимости между rate и другими переменными?\n",
    "- Как использовать эту информацию при построении модели?\n",
    "\n",
    "- Обычная корреляция (Pearson) → измеряет только линейные зависимости.\n",
    "- Spearman-корреляция → измеряет монотонные зависимости (линейные + нелинейные).\n",
    "- Mutual Information (MI) → измеряет любые зависимости (включая сложные нелинейные).\n",
    "\n",
    "\n",
    "|Признак|Pearson Corr с `rate`|Spearman Corr с `rate`|Mutual Information (`rate`)|\n",
    "|---|---|---|---|\n",
    "|`valid_miles`|-0.698|-0.6983|5.3896|\n",
    "|`weight`|-0.118**|-0.1181|1.0227|\n",
    "|`transport_type`|0.024|–|–|\n",
    "\n",
    "\n",
    "- Pearson и Spearman для valid_miles практически совпадают (-0.698).\n",
    "- Это значит, что зависимость valid_miles и rate линейная или близкая к монотонной.\n",
    "- MI для valid_miles = 5.38, что подтверждает, что связь сильная, но, возможно, есть слабая нелинейность.\n",
    "- Для weight тоже нет разницы между Pearson и Spearman (-0.118), а MI всего 1.02.\n",
    "- Это значит, что weight влияет на rate, но намного слабее, чем valid_miles.\n",
    "- Если бы weight имел сильную нелинейную зависимость, MI был бы значительно больше.\n",
    "- transport_type имеет почти нулевую линейную корреляцию (0.024).\n",
    "- Это значит, что он либо не влияет на rate, либо его влияние сложное и скрытое (категориальная зависимость).\n",
    "\n",
    "Выводы:\n",
    "- valid_miles – ключевой признак, он сильнее всего связан с rate.\n",
    "    - Зависимость между rate и valid_miles почти линейная, но с небольшими нелинейными эффектами (MI = 5.38).\n",
    "    - Это значит, что модель должна учитывать valid_miles напрямую, возможно, с трансформацией (например, логарифмом).\n",
    "- weight влияет на rate, но значительно слабее.\n",
    "    - Его влияние больше нелинейное, чем линейное (MI = 1.02).\n",
    "    - Это значит, что в модели может помочь полиномиальный или логарифмический признак.\n",
    "- transport_type не имеет линейной зависимости с rate, но это не значит, что он бесполезен.\n",
    "    - Он категориальный и, возможно, влияет на rate через сложные зависимости.\n",
    "    - Значит, его лучше анализировать через группировки и кодирование (one-hot, target encoding, embeddings).\n"
   ]
  },
  {
   "cell_type": "markdown",
   "id": "c2ffcdb1-e1af-4b9b-bd9b-635de8fda8b3",
   "metadata": {},
   "source": [
    "# Mutual Information"
   ]
  },
  {
   "cell_type": "code",
   "execution_count": 3,
   "id": "131189d4-377a-48a5-b6b4-20ecb14e78be",
   "metadata": {
    "ExecuteTime": {
     "end_time": "2025-02-11T14:41:14.187476Z",
     "start_time": "2025-02-11T14:41:14.180106Z"
    }
   },
   "outputs": [],
   "source": [
    "def calculate_mi(train_df):\n",
    "    num_features = [\"valid_miles\", \"weight\"]\n",
    "    X = train_df[num_features]\n",
    "    y = train_df[\"rate\"]\n",
    "\n",
    "    mi_scores = mutual_info_regression(X, y, random_state=42)\n",
    "    mi_scores = pd.Series(mi_scores, index=num_features)\n",
    "\n",
    "    print(\"Mutual Information (нелинейная зависимость с rate):\")\n",
    "    print(mi_scores.sort_values(ascending=False))\n",
    "\n",
    "    spearman_corr = train_df[[\"rate\", \"valid_miles\", \"weight\"]].corr(method=\"spearman\")\n",
    "    print(\"Spearman Correlation (монотонная зависимость):\")\n",
    "    print(spearman_corr)"
   ]
  },
  {
   "cell_type": "code",
   "execution_count": 4,
   "id": "9e2cb751-f0b2-43b4-b3d6-dd88a4b36663",
   "metadata": {
    "ExecuteTime": {
     "start_time": "2025-02-11T14:41:14.338217Z"
    },
    "jupyter": {
     "is_executing": true
    }
   },
   "outputs": [
    {
     "name": "stdout",
     "output_type": "stream",
     "text": [
      "Mutual Information (нелинейная зависимость с rate):\n",
      "valid_miles    5.327568\n",
      "weight         0.911912\n",
      "dtype: float64\n",
      "Spearman Correlation (монотонная зависимость):\n",
      "                 rate  valid_miles    weight\n",
      "rate         1.000000    -0.701286 -0.112271\n",
      "valid_miles -0.701286     1.000000  0.216142\n",
      "weight      -0.112271     0.216142  1.000000\n"
     ]
    }
   ],
   "source": [
    "calculate_mi(train_df)"
   ]
  },
  {
   "cell_type": "markdown",
   "id": "b4262461-fa08-42b7-8188-20b481998efd",
   "metadata": {},
   "source": [
    "# MI for transport_type"
   ]
  },
  {
   "cell_type": "code",
   "execution_count": 5,
   "id": "127aae4b-6b44-4c3e-b023-f3677e984ee0",
   "metadata": {
    "ExecuteTime": {
     "end_time": "2025-02-11T14:40:53.137690700Z",
     "start_time": "2025-02-11T14:34:38.785212Z"
    }
   },
   "outputs": [
    {
     "name": "stdout",
     "output_type": "stream",
     "text": [
      "MI for transport_type: 0.12440606406261567\n"
     ]
    }
   ],
   "source": [
    "train_df[\"transport_type_encoded\"] = LabelEncoder().fit_transform(train_df[\"transport_type\"])\n",
    "mi_transport = mutual_info_regression(train_df[[\"transport_type_encoded\"]], train_df[\"rate\"])\n",
    "print(\"MI for transport_type:\", mi_transport[0])"
   ]
  },
  {
   "cell_type": "markdown",
   "id": "7c0cd7f9-eb43-444d-b520-8572d876648c",
   "metadata": {},
   "source": [
    "# `valid_miles` bar plot"
   ]
  },
  {
   "cell_type": "code",
   "execution_count": 6,
   "id": "ada62d92-9780-4e3e-b96a-40bc22401add",
   "metadata": {
    "ExecuteTime": {
     "end_time": "2025-02-11T14:40:53.140144400Z",
     "start_time": "2025-02-11T14:34:42.848206Z"
    }
   },
   "outputs": [
    {
     "data": {
      "text/plain": [
       "<Axes: xlabel='valid_miles_bin'>"
      ]
     },
     "execution_count": 6,
     "metadata": {},
     "output_type": "execute_result"
    },
    {
     "data": {
      "image/png": "[encoded data removed]",
      "text/plain": [
       "<Figure size 640x480 with 1 Axes>"
      ]
     },
     "metadata": {},
     "output_type": "display_data"
    }
   ],
   "source": [
    "train_df[\"valid_miles_bin\"] = pd.qcut(train_df[\"valid_miles\"], q=10)\n",
    "train_df.groupby(\"valid_miles_bin\", observed=True)[\"rate\"].mean().plot(kind=\"bar\")"
   ]
  },
  {
   "cell_type": "markdown",
   "id": "74a4e33e-d203-40aa-9475-1136b24b89aa",
   "metadata": {},
   "source": [
    "- rate сильно падает на коротких расстояниях (до ~100 миль).\n",
    "- После ~200 миль снижение rate замедляется.\n",
    "- После ~500 миль rate почти стабилен.\n",
    "- Зависимость не линейная, а скорее степенная (то есть rate уменьшается, но не пропорционально valid_miles).\n",
    "- Это идеальный случай для логарифмической трансформации."
   ]
  },
  {
   "cell_type": "markdown",
   "id": "7100af82-54ad-4401-b26c-dec4a24f2e9f",
   "metadata": {},
   "source": [
    "# Полиномиальные признаки"
   ]
  },
  {
   "cell_type": "code",
   "execution_count": 7,
   "id": "d8b0fcb9-3f90-4813-a472-08b69a63a248",
   "metadata": {
    "ExecuteTime": {
     "end_time": "2025-02-11T14:40:53.140144400Z",
     "start_time": "2025-02-11T14:34:43.730355Z"
    }
   },
   "outputs": [
    {
     "name": "stdout",
     "output_type": "stream",
     "text": [
      "R² for polynomial regression: 0.2933862097311303\n"
     ]
    }
   ],
   "source": [
    "X = train_df[[\"valid_miles\", \"weight\"]]\n",
    "y = train_df[\"rate\"]\n",
    "\n",
    "poly = PolynomialFeatures(degree=2)\n",
    "X_poly = poly.fit_transform(X)\n",
    "\n",
    "model = LinearRegression()\n",
    "model.fit(X_poly, y)\n",
    "\n",
    "r2 = model.score(X_poly, y)\n",
    "print(\"R² for polynomial regression:\", r2)"
   ]
  },
  {
   "cell_type": "markdown",
   "id": "e9aa1c6f-27fd-4cde-bbd1-61cbe8f2167c",
   "metadata": {},
   "source": [
    "- R² = 0.294 → модель объясняет только 29.4% дисперсии rate.\n",
    "- Это очень низкий показатель для полиномиальной регрессии.\n",
    "- Полиномиальные признаки не дают сильного улучшения модели.\n",
    "\n",
    "- Логарифмировать valid_miles вместо полиномов.\n",
    "- Попробовать взаимодействие valid_miles и weight.\n",
    "- Добавить KMA-локации (origin_kma, destination_kma), потому что они могут влиять на rate."
   ]
  },
  {
   "cell_type": "markdown",
   "id": "ef96506c-3ba2-4d92-86f1-876128f009f5",
   "metadata": {},
   "source": [
    "# `transport_type` bar plot"
   ]
  },
  {
   "cell_type": "code",
   "execution_count": 9,
   "id": "6f70d4a3-609a-430b-bdca-81c538bca068",
   "metadata": {
    "ExecuteTime": {
     "end_time": "2025-02-11T14:40:53.140144400Z",
     "start_time": "2025-02-11T14:34:43.883241Z"
    }
   },
   "outputs": [
    {
     "data": {
      "text/plain": [
       "<Axes: xlabel='transport_type'>"
      ]
     },
     "execution_count": 9,
     "metadata": {},
     "output_type": "execute_result"
    },
    {
     "data": {
      "image/png": "[encoded data removed]",
      "text/plain": [
       "<Figure size 640x480 with 1 Axes>"
      ]
     },
     "metadata": {},
     "output_type": "display_data"
    }
   ],
   "source": [
    "train_df.groupby(\"transport_type\")[\"rate\"].mean().plot(kind=\"bar\")"
   ]
  },
  {
   "cell_type": "markdown",
   "id": "c5286462-6114-42ab-b1c9-4045aa6d7ae4",
   "metadata": {},
   "source": [
    "Что показывает график?\n",
    "- Средний rate немного отличается между transport_type, но разница небольшая.\n",
    "- KFEGT чуть выше (~6.5).\n",
    "- MKPFX и GJROY примерно одинаковы (~5.2).\n",
    "- MI = 0.136 → это низкое значение, что подтверждает, что transport_type не является ключевым фактором.\n",
    "- Можно попробовать Target Encoding вместо One-Hot Encoding, чтобы не увеличивать размерность данных.\n",
    "- Если transport_type не улучшит модель, его можно исключить."
   ]
  },
  {
   "cell_type": "markdown",
   "id": "775e3725-d2e8-4032-9e5f-1a2aa737931e",
   "metadata": {},
   "source": [
    "# MI for transport_type for encoded `transport_type`"
   ]
  },
  {
   "cell_type": "code",
   "execution_count": 13,
   "id": "1f14fe66-9fdd-4da2-be5d-08ca20b8af0c",
   "metadata": {
    "ExecuteTime": {
     "end_time": "2025-02-11T14:40:53.140144400Z",
     "start_time": "2025-02-11T14:34:44.026074Z"
    }
   },
   "outputs": [
    {
     "name": "stdout",
     "output_type": "stream",
     "text": [
      "MI for transport_type: 0.1253839392017122\n"
     ]
    }
   ],
   "source": [
    "train_df[\"transport_type_encoded\"] = LabelEncoder().fit_transform(train_df[\"transport_type\"])\n",
    "mi_transport = mutual_info_regression(train_df[[\"transport_type_encoded\"]], train_df[\"rate\"])\n",
    "print(\"MI for transport_type:\", mi_transport[0])"
   ]
  },
  {
   "cell_type": "code",
   "execution_count": null,
   "id": "13e9dd2c-c626-485d-82ec-dbe75045399d",
   "metadata": {},
   "outputs": [],
   "source": []
  }
 ],
 "metadata": {
  "kernelspec": {
   "display_name": ".venv",
   "language": "python",
   "name": ".venv"
  },
  "language_info": {
   "codemirror_mode": {
    "name": "ipython",
    "version": 3
   },
   "file_extension": ".py",
   "mimetype": "text/x-python",
   "name": "python",
   "nbconvert_exporter": "python",
   "pygments_lexer": "ipython3",
   "version": "3.12.6"
  }
 },
 "nbformat": 4,
 "nbformat_minor": 5
}
