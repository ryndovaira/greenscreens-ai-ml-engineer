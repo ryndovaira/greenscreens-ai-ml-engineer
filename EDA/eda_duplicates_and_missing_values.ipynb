{
 "cells": [
  {
   "cell_type": "markdown",
   "id": "ac2d2f11-cb04-44c5-a00e-3194365b910b",
   "metadata": {},
   "source": [
    "# Import libraries"
   ]
  },
  {
   "cell_type": "code",
   "execution_count": 1,
   "id": "df429e2c-a722-4177-8d92-55982335bfc1",
   "metadata": {
    "ExecuteTime": {
     "end_time": "2025-02-11T14:40:53.324179Z",
     "start_time": "2025-02-11T14:40:53.302926Z"
    }
   },
   "outputs": [],
   "source": [
    "import numpy as np\n",
    "\n",
    "import seaborn as sns\n",
    "sns.set_theme(style=\"whitegrid\")\n",
    "\n",
    "import matplotlib.pyplot as plt\n",
    "%matplotlib inline\n",
    "\n",
    "from utils import train_df,eda_data_dir"
   ]
  },
  {
   "cell_type": "markdown",
   "id": "9caa80b6-9063-42ea-8cf6-4bfaa8d51ecf",
   "metadata": {},
   "source": [
    "# Дубликаты"
   ]
  },
  {
   "cell_type": "code",
   "execution_count": 2,
   "id": "789e57bb-c165-4773-9db9-f2a852c6b47e",
   "metadata": {
    "ExecuteTime": {
     "end_time": "2025-02-11T14:41:13.533203Z",
     "start_time": "2025-02-11T14:41:13.518166Z"
    }
   },
   "outputs": [
    {
     "data": {
      "text/plain": [
       "296727"
      ]
     },
     "execution_count": 2,
     "metadata": {},
     "output_type": "execute_result"
    }
   ],
   "source": [
    "len_before = len(train_df)\n",
    "len_before"
   ]
  },
  {
   "cell_type": "code",
   "execution_count": 3,
   "id": "0555b60a-eda8-441b-ba68-598fe687930b",
   "metadata": {
    "ExecuteTime": {
     "end_time": "2025-02-11T14:41:14.154295Z",
     "start_time": "2025-02-11T14:41:13.768529Z"
    }
   },
   "outputs": [
    {
     "data": {
      "text/plain": [
       "286346"
      ]
     },
     "execution_count": 3,
     "metadata": {},
     "output_type": "execute_result"
    }
   ],
   "source": [
    "train_df.drop_duplicates(inplace=True)\n",
    "len_after = len(train_df)\n",
    "len_after"
   ]
  },
  {
   "cell_type": "code",
   "execution_count": 4,
   "id": "e4091f07-f54d-4e01-b738-a9d36de63d0a",
   "metadata": {},
   "outputs": [
    {
     "data": {
      "text/plain": [
       "10381"
      ]
     },
     "execution_count": 4,
     "metadata": {},
     "output_type": "execute_result"
    }
   ],
   "source": [
    "len_before - len_after"
   ]
  },
  {
   "cell_type": "markdown",
   "id": "4fdc1456-6088-4768-ba22-2943ffe15bad",
   "metadata": {},
   "source": [
    "### Save"
   ]
  },
  {
   "cell_type": "code",
   "execution_count": 5,
   "id": "0b321ddf-55b8-47b3-bc9e-893cbe353f5e",
   "metadata": {},
   "outputs": [],
   "source": [
    "train_df.to_csv(eda_data_dir / \"train_df_no_duplicates.csv\", index=False)"
   ]
  },
  {
   "cell_type": "markdown",
   "id": "144fcd6f-4793-4066-bd09-f26bfaa661aa",
   "metadata": {},
   "source": [
    "# Пропущенные значения (missing values)"
   ]
  },
  {
   "cell_type": "code",
   "execution_count": 6,
   "id": "1efef23f-dcba-4af1-a43b-c3f7eb5088e8",
   "metadata": {},
   "outputs": [
    {
     "data": {
      "text/html": [
       "<div>\n",
       "<style scoped>\n",
       "    .dataframe tbody tr th:only-of-type {\n",
       "        vertical-align: middle;\n",
       "    }\n",
       "\n",
       "    .dataframe tbody tr th {\n",
       "        vertical-align: top;\n",
       "    }\n",
       "\n",
       "    .dataframe thead th {\n",
       "        text-align: right;\n",
       "    }\n",
       "</style>\n",
       "<table border=\"1\" class=\"dataframe\">\n",
       "  <thead>\n",
       "    <tr style=\"text-align: right;\">\n",
       "      <th></th>\n",
       "      <th>rate</th>\n",
       "      <th>valid_miles</th>\n",
       "      <th>weight</th>\n",
       "    </tr>\n",
       "  </thead>\n",
       "  <tbody>\n",
       "    <tr>\n",
       "      <th>count</th>\n",
       "      <td>79.000000</td>\n",
       "      <td>79.000000</td>\n",
       "      <td>0.0</td>\n",
       "    </tr>\n",
       "    <tr>\n",
       "      <th>mean</th>\n",
       "      <td>6.334624</td>\n",
       "      <td>222.050177</td>\n",
       "      <td>NaN</td>\n",
       "    </tr>\n",
       "    <tr>\n",
       "      <th>std</th>\n",
       "      <td>3.481402</td>\n",
       "      <td>159.598758</td>\n",
       "      <td>NaN</td>\n",
       "    </tr>\n",
       "    <tr>\n",
       "      <th>min</th>\n",
       "      <td>2.167900</td>\n",
       "      <td>43.568000</td>\n",
       "      <td>NaN</td>\n",
       "    </tr>\n",
       "    <tr>\n",
       "      <th>25%</th>\n",
       "      <td>3.693900</td>\n",
       "      <td>100.172000</td>\n",
       "      <td>NaN</td>\n",
       "    </tr>\n",
       "    <tr>\n",
       "      <th>50%</th>\n",
       "      <td>5.080200</td>\n",
       "      <td>223.882000</td>\n",
       "      <td>NaN</td>\n",
       "    </tr>\n",
       "    <tr>\n",
       "      <th>75%</th>\n",
       "      <td>7.628700</td>\n",
       "      <td>280.886500</td>\n",
       "      <td>NaN</td>\n",
       "    </tr>\n",
       "    <tr>\n",
       "      <th>max</th>\n",
       "      <td>14.375000</td>\n",
       "      <td>1125.941500</td>\n",
       "      <td>NaN</td>\n",
       "    </tr>\n",
       "  </tbody>\n",
       "</table>\n",
       "</div>"
      ],
      "text/plain": [
       "            rate  valid_miles  weight\n",
       "count  79.000000    79.000000     0.0\n",
       "mean    6.334624   222.050177     NaN\n",
       "std     3.481402   159.598758     NaN\n",
       "min     2.167900    43.568000     NaN\n",
       "25%     3.693900   100.172000     NaN\n",
       "50%     5.080200   223.882000     NaN\n",
       "75%     7.628700   280.886500     NaN\n",
       "max    14.375000  1125.941500     NaN"
      ]
     },
     "execution_count": 6,
     "metadata": {},
     "output_type": "execute_result"
    }
   ],
   "source": [
    "train_df[train_df[\"weight\"].isnull()].describe()"
   ]
  },
  {
   "cell_type": "code",
   "execution_count": 7,
   "id": "5755c3fc-23f6-4e84-8243-8e1c4fd9a1e0",
   "metadata": {},
   "outputs": [
    {
     "data": {
      "text/plain": [
       "transport_type\n",
       "MKPFX    79\n",
       "Name: count, dtype: int64"
      ]
     },
     "execution_count": 7,
     "metadata": {},
     "output_type": "execute_result"
    }
   ],
   "source": [
    "train_df[train_df[\"weight\"].isnull()][\"transport_type\"].value_counts()"
   ]
  },
  {
   "cell_type": "markdown",
   "id": "ee2e1a4c-1139-47aa-aeb4-f981d27bf0e5",
   "metadata": {},
   "source": [
    "## Statistics for rows with missing weight"
   ]
  },
  {
   "cell_type": "code",
   "execution_count": 8,
   "id": "2bbdb3d9-f957-42b5-b124-518c6b885a0b",
   "metadata": {},
   "outputs": [
    {
     "data": {
      "text/html": [
       "<div>\n",
       "<style scoped>\n",
       "    .dataframe tbody tr th:only-of-type {\n",
       "        vertical-align: middle;\n",
       "    }\n",
       "\n",
       "    .dataframe tbody tr th {\n",
       "        vertical-align: top;\n",
       "    }\n",
       "\n",
       "    .dataframe thead th {\n",
       "        text-align: right;\n",
       "    }\n",
       "</style>\n",
       "<table border=\"1\" class=\"dataframe\">\n",
       "  <thead>\n",
       "    <tr style=\"text-align: right;\">\n",
       "      <th></th>\n",
       "      <th>rate</th>\n",
       "      <th>valid_miles</th>\n",
       "    </tr>\n",
       "  </thead>\n",
       "  <tbody>\n",
       "    <tr>\n",
       "      <th>count</th>\n",
       "      <td>79.000000</td>\n",
       "      <td>79.000000</td>\n",
       "    </tr>\n",
       "    <tr>\n",
       "      <th>mean</th>\n",
       "      <td>6.334624</td>\n",
       "      <td>222.050177</td>\n",
       "    </tr>\n",
       "    <tr>\n",
       "      <th>std</th>\n",
       "      <td>3.481402</td>\n",
       "      <td>159.598758</td>\n",
       "    </tr>\n",
       "    <tr>\n",
       "      <th>min</th>\n",
       "      <td>2.167900</td>\n",
       "      <td>43.568000</td>\n",
       "    </tr>\n",
       "    <tr>\n",
       "      <th>25%</th>\n",
       "      <td>3.693900</td>\n",
       "      <td>100.172000</td>\n",
       "    </tr>\n",
       "    <tr>\n",
       "      <th>50%</th>\n",
       "      <td>5.080200</td>\n",
       "      <td>223.882000</td>\n",
       "    </tr>\n",
       "    <tr>\n",
       "      <th>75%</th>\n",
       "      <td>7.628700</td>\n",
       "      <td>280.886500</td>\n",
       "    </tr>\n",
       "    <tr>\n",
       "      <th>max</th>\n",
       "      <td>14.375000</td>\n",
       "      <td>1125.941500</td>\n",
       "    </tr>\n",
       "  </tbody>\n",
       "</table>\n",
       "</div>"
      ],
      "text/plain": [
       "            rate  valid_miles\n",
       "count  79.000000    79.000000\n",
       "mean    6.334624   222.050177\n",
       "std     3.481402   159.598758\n",
       "min     2.167900    43.568000\n",
       "25%     3.693900   100.172000\n",
       "50%     5.080200   223.882000\n",
       "75%     7.628700   280.886500\n",
       "max    14.375000  1125.941500"
      ]
     },
     "execution_count": 8,
     "metadata": {},
     "output_type": "execute_result"
    }
   ],
   "source": [
    "train_df[train_df[\"weight\"].isnull()][[\"rate\", \"valid_miles\"]].describe()"
   ]
  },
  {
   "cell_type": "markdown",
   "id": "bf7c62f8-8a9f-4491-bf4e-9066b27db50a",
   "metadata": {},
   "source": [
    "## Statistics for rows without missing weight"
   ]
  },
  {
   "cell_type": "code",
   "execution_count": 9,
   "id": "3c5a48a0-e1c1-431f-a67d-ef8deadd2d9b",
   "metadata": {},
   "outputs": [
    {
     "data": {
      "text/html": [
       "<div>\n",
       "<style scoped>\n",
       "    .dataframe tbody tr th:only-of-type {\n",
       "        vertical-align: middle;\n",
       "    }\n",
       "\n",
       "    .dataframe tbody tr th {\n",
       "        vertical-align: top;\n",
       "    }\n",
       "\n",
       "    .dataframe thead th {\n",
       "        text-align: right;\n",
       "    }\n",
       "</style>\n",
       "<table border=\"1\" class=\"dataframe\">\n",
       "  <thead>\n",
       "    <tr style=\"text-align: right;\">\n",
       "      <th></th>\n",
       "      <th>rate</th>\n",
       "      <th>valid_miles</th>\n",
       "    </tr>\n",
       "  </thead>\n",
       "  <tbody>\n",
       "    <tr>\n",
       "      <th>count</th>\n",
       "      <td>286267.000000</td>\n",
       "      <td>286267.000000</td>\n",
       "    </tr>\n",
       "    <tr>\n",
       "      <th>mean</th>\n",
       "      <td>5.239575</td>\n",
       "      <td>450.479197</td>\n",
       "    </tr>\n",
       "    <tr>\n",
       "      <th>std</th>\n",
       "      <td>2.983215</td>\n",
       "      <td>447.906249</td>\n",
       "    </tr>\n",
       "    <tr>\n",
       "      <th>min</th>\n",
       "      <td>1.288400</td>\n",
       "      <td>24.780100</td>\n",
       "    </tr>\n",
       "    <tr>\n",
       "      <th>25%</th>\n",
       "      <td>3.529500</td>\n",
       "      <td>179.123900</td>\n",
       "    </tr>\n",
       "    <tr>\n",
       "      <th>50%</th>\n",
       "      <td>4.595000</td>\n",
       "      <td>298.375000</td>\n",
       "    </tr>\n",
       "    <tr>\n",
       "      <th>75%</th>\n",
       "      <td>6.041300</td>\n",
       "      <td>539.173400</td>\n",
       "    </tr>\n",
       "    <tr>\n",
       "      <th>max</th>\n",
       "      <td>248.973000</td>\n",
       "      <td>2876.446900</td>\n",
       "    </tr>\n",
       "  </tbody>\n",
       "</table>\n",
       "</div>"
      ],
      "text/plain": [
       "                rate    valid_miles\n",
       "count  286267.000000  286267.000000\n",
       "mean        5.239575     450.479197\n",
       "std         2.983215     447.906249\n",
       "min         1.288400      24.780100\n",
       "25%         3.529500     179.123900\n",
       "50%         4.595000     298.375000\n",
       "75%         6.041300     539.173400\n",
       "max       248.973000    2876.446900"
      ]
     },
     "execution_count": 9,
     "metadata": {},
     "output_type": "execute_result"
    }
   ],
   "source": [
    "train_df[train_df[\"weight\"].notnull()][[\"rate\", \"valid_miles\"]].describe()"
   ]
  },
  {
   "cell_type": "markdown",
   "id": "3ac52e9d-720a-4bf3-8531-1ecd82c90e29",
   "metadata": {},
   "source": [
    "## Mean values comparison"
   ]
  },
  {
   "cell_type": "markdown",
   "id": "0bb8c31f-1fca-4049-8449-dba34c590f72",
   "metadata": {},
   "source": [
    "### Rows with missing values"
   ]
  },
  {
   "cell_type": "code",
   "execution_count": 10,
   "id": "5c60dcc1-8936-4784-8057-d6c8645a24f2",
   "metadata": {},
   "outputs": [
    {
     "data": {
      "text/plain": [
       "rate             6.334624\n",
       "valid_miles    222.050177\n",
       "dtype: float64"
      ]
     },
     "execution_count": 10,
     "metadata": {},
     "output_type": "execute_result"
    }
   ],
   "source": [
    "train_df[train_df[\"weight\"].isnull()][[\"rate\", \"valid_miles\"]].mean()"
   ]
  },
  {
   "cell_type": "markdown",
   "id": "80e46248-ae02-4cad-adce-e14078f1afa1",
   "metadata": {},
   "source": [
    "### Rows without missing values"
   ]
  },
  {
   "cell_type": "code",
   "execution_count": 11,
   "id": "ea74d2a6-a90b-45c4-acfc-35e0d7e8d11f",
   "metadata": {
    "ExecuteTime": {
     "end_time": "2025-02-11T14:41:09.615066Z",
     "start_time": "2025-02-11T14:41:08.756287Z"
    }
   },
   "outputs": [
    {
     "data": {
      "text/plain": [
       "rate             5.239575\n",
       "valid_miles    450.479197\n",
       "dtype: float64"
      ]
     },
     "execution_count": 11,
     "metadata": {},
     "output_type": "execute_result"
    }
   ],
   "source": [
    "train_df[train_df[\"weight\"].notnull()][[\"rate\", \"valid_miles\"]].mean()"
   ]
  },
  {
   "cell_type": "code",
   "execution_count": 12,
   "id": "a1fe0d59-1d54-4770-96e9-44fee378a2d4",
   "metadata": {},
   "outputs": [
    {
     "data": {
      "image/png": "[encoded data removed]",
      "text/plain": [
       "<Figure size 1000x400 with 1 Axes>"
      ]
     },
     "metadata": {},
     "output_type": "display_data"
    }
   ],
   "source": [
    "plt.figure(figsize=(10, 4))\n",
    "sns.kdeplot(train_df[train_df[\"weight\"].notnull()][\"rate\"], label=\"Без NaN\", fill=True)\n",
    "sns.kdeplot(train_df[train_df[\"weight\"].isnull()][\"rate\"], label=\"С NaN\", fill=True)\n",
    "plt.title(\"Comparison of rate distribution for rows with and without missing weight\")\n",
    "plt.legend()\n",
    "plt.show()"
   ]
  },
  {
   "cell_type": "markdown",
   "id": "38d8bbb8-0b4e-44f0-b59e-afc67aed7ad4",
   "metadata": {},
   "source": [
    "- 80 пропусков в weight (<0.1%) → это 0.027% от выборки.\n",
    "- Все 80 NaN относятся к transport_type = MKPFX.\n",
    "- Вся выборка MKPFX — 275 748 строк, а NaN — всего 80 строк (0.029%).\n",
    "- Удаление этих строк не изменит баланс классов, так как MKPFX и так занимает 93% всех данных.\n",
    "- Но если NaN не случайны, их удаление может убрать важную информацию.\n",
    "    - В строках с NaN, средний rate выше на 1.2 единицы, что значимо.\n",
    "    - valid_miles почти в два раза ниже, чем в общей выборке.\n",
    "\n",
    "Выводы:\n",
    "- Вариант 1: Удаляем строки с NaN в weight.\n",
    "- Вариант 2: Заполняем NaN медианой по MKPFX."
   ]
  },
  {
   "cell_type": "markdown",
   "id": "5fabaa37-5116-4a61-abdc-183a91da19c9",
   "metadata": {},
   "source": [
    "## Drop rows with missing values vs. Fills with median value"
   ]
  },
  {
   "cell_type": "code",
   "execution_count": 13,
   "id": "e500394e-2cc8-411b-b0cb-70c5d1ad17ab",
   "metadata": {},
   "outputs": [],
   "source": [
    "train_df_nan_weight_deleted = train_df.dropna(subset=[\"weight\"]).copy()"
   ]
  },
  {
   "cell_type": "code",
   "execution_count": 14,
   "id": "8bbd82a8-468a-494e-a781-7ca91ce67129",
   "metadata": {
    "ExecuteTime": {
     "end_time": "2025-02-11T14:41:09.784314Z",
     "start_time": "2025-02-11T14:41:09.668951Z"
    }
   },
   "outputs": [],
   "source": [
    "train_df_nan_weight_filled_median = train_df.copy()\n",
    "train_df_nan_weight_filled_median[\"weight\"] = train_df_nan_weight_filled_median.groupby(\"transport_type\")[\"weight\"].transform(lambda x: x.fillna(x.median()))"
   ]
  },
  {
   "cell_type": "markdown",
   "id": "d19e1cb5-bf88-4fe3-8bbc-f3e9ecebaf65",
   "metadata": {},
   "source": [
    "### Original train dataset statistics"
   ]
  },
  {
   "cell_type": "code",
   "execution_count": 15,
   "id": "50ca8939-1ce3-41ba-9d9c-71b37ed14429",
   "metadata": {},
   "outputs": [
    {
     "data": {
      "text/html": [
       "<div>\n",
       "<style scoped>\n",
       "    .dataframe tbody tr th:only-of-type {\n",
       "        vertical-align: middle;\n",
       "    }\n",
       "\n",
       "    .dataframe tbody tr th {\n",
       "        vertical-align: top;\n",
       "    }\n",
       "\n",
       "    .dataframe thead th {\n",
       "        text-align: right;\n",
       "    }\n",
       "</style>\n",
       "<table border=\"1\" class=\"dataframe\">\n",
       "  <thead>\n",
       "    <tr style=\"text-align: right;\">\n",
       "      <th></th>\n",
       "      <th>rate</th>\n",
       "      <th>valid_miles</th>\n",
       "      <th>weight</th>\n",
       "    </tr>\n",
       "  </thead>\n",
       "  <tbody>\n",
       "    <tr>\n",
       "      <th>count</th>\n",
       "      <td>286346.000000</td>\n",
       "      <td>286346.000000</td>\n",
       "      <td>286267.000000</td>\n",
       "    </tr>\n",
       "    <tr>\n",
       "      <th>mean</th>\n",
       "      <td>5.239877</td>\n",
       "      <td>450.416176</td>\n",
       "      <td>22825.242104</td>\n",
       "    </tr>\n",
       "    <tr>\n",
       "      <th>std</th>\n",
       "      <td>2.983413</td>\n",
       "      <td>447.868272</td>\n",
       "      <td>12481.276635</td>\n",
       "    </tr>\n",
       "    <tr>\n",
       "      <th>min</th>\n",
       "      <td>1.288400</td>\n",
       "      <td>24.780100</td>\n",
       "      <td>4800.950000</td>\n",
       "    </tr>\n",
       "    <tr>\n",
       "      <th>25%</th>\n",
       "      <td>3.529500</td>\n",
       "      <td>179.123900</td>\n",
       "      <td>12229.000000</td>\n",
       "    </tr>\n",
       "    <tr>\n",
       "      <th>50%</th>\n",
       "      <td>4.595500</td>\n",
       "      <td>298.214800</td>\n",
       "      <td>19050.000000</td>\n",
       "    </tr>\n",
       "    <tr>\n",
       "      <th>75%</th>\n",
       "      <td>6.041600</td>\n",
       "      <td>539.031000</td>\n",
       "      <td>36963.200000</td>\n",
       "    </tr>\n",
       "    <tr>\n",
       "      <th>max</th>\n",
       "      <td>248.973000</td>\n",
       "      <td>2876.446900</td>\n",
       "      <td>190050.000000</td>\n",
       "    </tr>\n",
       "  </tbody>\n",
       "</table>\n",
       "</div>"
      ],
      "text/plain": [
       "                rate    valid_miles         weight\n",
       "count  286346.000000  286346.000000  286267.000000\n",
       "mean        5.239877     450.416176   22825.242104\n",
       "std         2.983413     447.868272   12481.276635\n",
       "min         1.288400      24.780100    4800.950000\n",
       "25%         3.529500     179.123900   12229.000000\n",
       "50%         4.595500     298.214800   19050.000000\n",
       "75%         6.041600     539.031000   36963.200000\n",
       "max       248.973000    2876.446900  190050.000000"
      ]
     },
     "execution_count": 15,
     "metadata": {},
     "output_type": "execute_result"
    }
   ],
   "source": [
    "train_df[[\"rate\", \"valid_miles\", \"weight\"]].describe()"
   ]
  },
  {
   "cell_type": "markdown",
   "id": "fdc1a1e6-9ae3-44b4-a457-cc9461826337",
   "metadata": {},
   "source": [
    "### Dataset after deleting NaN in weight"
   ]
  },
  {
   "cell_type": "code",
   "execution_count": 16,
   "id": "9ac11910-558e-424e-a3d1-112654456e75",
   "metadata": {},
   "outputs": [
    {
     "data": {
      "text/html": [
       "<div>\n",
       "<style scoped>\n",
       "    .dataframe tbody tr th:only-of-type {\n",
       "        vertical-align: middle;\n",
       "    }\n",
       "\n",
       "    .dataframe tbody tr th {\n",
       "        vertical-align: top;\n",
       "    }\n",
       "\n",
       "    .dataframe thead th {\n",
       "        text-align: right;\n",
       "    }\n",
       "</style>\n",
       "<table border=\"1\" class=\"dataframe\">\n",
       "  <thead>\n",
       "    <tr style=\"text-align: right;\">\n",
       "      <th></th>\n",
       "      <th>rate</th>\n",
       "      <th>valid_miles</th>\n",
       "      <th>weight</th>\n",
       "    </tr>\n",
       "  </thead>\n",
       "  <tbody>\n",
       "    <tr>\n",
       "      <th>count</th>\n",
       "      <td>286267.000000</td>\n",
       "      <td>286267.000000</td>\n",
       "      <td>286267.000000</td>\n",
       "    </tr>\n",
       "    <tr>\n",
       "      <th>mean</th>\n",
       "      <td>5.239575</td>\n",
       "      <td>450.479197</td>\n",
       "      <td>22825.242104</td>\n",
       "    </tr>\n",
       "    <tr>\n",
       "      <th>std</th>\n",
       "      <td>2.983215</td>\n",
       "      <td>447.906249</td>\n",
       "      <td>12481.276635</td>\n",
       "    </tr>\n",
       "    <tr>\n",
       "      <th>min</th>\n",
       "      <td>1.288400</td>\n",
       "      <td>24.780100</td>\n",
       "      <td>4800.950000</td>\n",
       "    </tr>\n",
       "    <tr>\n",
       "      <th>25%</th>\n",
       "      <td>3.529500</td>\n",
       "      <td>179.123900</td>\n",
       "      <td>12229.000000</td>\n",
       "    </tr>\n",
       "    <tr>\n",
       "      <th>50%</th>\n",
       "      <td>4.595000</td>\n",
       "      <td>298.375000</td>\n",
       "      <td>19050.000000</td>\n",
       "    </tr>\n",
       "    <tr>\n",
       "      <th>75%</th>\n",
       "      <td>6.041300</td>\n",
       "      <td>539.173400</td>\n",
       "      <td>36963.200000</td>\n",
       "    </tr>\n",
       "    <tr>\n",
       "      <th>max</th>\n",
       "      <td>248.973000</td>\n",
       "      <td>2876.446900</td>\n",
       "      <td>190050.000000</td>\n",
       "    </tr>\n",
       "  </tbody>\n",
       "</table>\n",
       "</div>"
      ],
      "text/plain": [
       "                rate    valid_miles         weight\n",
       "count  286267.000000  286267.000000  286267.000000\n",
       "mean        5.239575     450.479197   22825.242104\n",
       "std         2.983215     447.906249   12481.276635\n",
       "min         1.288400      24.780100    4800.950000\n",
       "25%         3.529500     179.123900   12229.000000\n",
       "50%         4.595000     298.375000   19050.000000\n",
       "75%         6.041300     539.173400   36963.200000\n",
       "max       248.973000    2876.446900  190050.000000"
      ]
     },
     "execution_count": 16,
     "metadata": {},
     "output_type": "execute_result"
    }
   ],
   "source": [
    "train_df_nan_weight_deleted[[\"rate\", \"valid_miles\", \"weight\"]].describe()"
   ]
  },
  {
   "cell_type": "markdown",
   "id": "29f8c210-5a84-4eea-80c4-48ed1a9e9aca",
   "metadata": {},
   "source": [
    "### Dataset after filling NaN with median"
   ]
  },
  {
   "cell_type": "code",
   "execution_count": 17,
   "id": "abc70be5-8ede-4f38-a215-776ffd8490f8",
   "metadata": {
    "ExecuteTime": {
     "end_time": "2025-02-11T14:41:09.980311Z",
     "start_time": "2025-02-11T14:41:09.785326Z"
    }
   },
   "outputs": [
    {
     "data": {
      "text/html": [
       "<div>\n",
       "<style scoped>\n",
       "    .dataframe tbody tr th:only-of-type {\n",
       "        vertical-align: middle;\n",
       "    }\n",
       "\n",
       "    .dataframe tbody tr th {\n",
       "        vertical-align: top;\n",
       "    }\n",
       "\n",
       "    .dataframe thead th {\n",
       "        text-align: right;\n",
       "    }\n",
       "</style>\n",
       "<table border=\"1\" class=\"dataframe\">\n",
       "  <thead>\n",
       "    <tr style=\"text-align: right;\">\n",
       "      <th></th>\n",
       "      <th>rate</th>\n",
       "      <th>valid_miles</th>\n",
       "      <th>weight</th>\n",
       "    </tr>\n",
       "  </thead>\n",
       "  <tbody>\n",
       "    <tr>\n",
       "      <th>count</th>\n",
       "      <td>286346.000000</td>\n",
       "      <td>286346.000000</td>\n",
       "      <td>286346.000000</td>\n",
       "    </tr>\n",
       "    <tr>\n",
       "      <th>mean</th>\n",
       "      <td>5.239877</td>\n",
       "      <td>450.416176</td>\n",
       "      <td>22823.962570</td>\n",
       "    </tr>\n",
       "    <tr>\n",
       "      <th>std</th>\n",
       "      <td>2.983413</td>\n",
       "      <td>447.868272</td>\n",
       "      <td>12479.792473</td>\n",
       "    </tr>\n",
       "    <tr>\n",
       "      <th>min</th>\n",
       "      <td>1.288400</td>\n",
       "      <td>24.780100</td>\n",
       "      <td>4800.950000</td>\n",
       "    </tr>\n",
       "    <tr>\n",
       "      <th>25%</th>\n",
       "      <td>3.529500</td>\n",
       "      <td>179.123900</td>\n",
       "      <td>12230.900000</td>\n",
       "    </tr>\n",
       "    <tr>\n",
       "      <th>50%</th>\n",
       "      <td>4.595500</td>\n",
       "      <td>298.214800</td>\n",
       "      <td>19050.000000</td>\n",
       "    </tr>\n",
       "    <tr>\n",
       "      <th>75%</th>\n",
       "      <td>6.041600</td>\n",
       "      <td>539.031000</td>\n",
       "      <td>36957.262500</td>\n",
       "    </tr>\n",
       "    <tr>\n",
       "      <th>max</th>\n",
       "      <td>248.973000</td>\n",
       "      <td>2876.446900</td>\n",
       "      <td>190050.000000</td>\n",
       "    </tr>\n",
       "  </tbody>\n",
       "</table>\n",
       "</div>"
      ],
      "text/plain": [
       "                rate    valid_miles         weight\n",
       "count  286346.000000  286346.000000  286346.000000\n",
       "mean        5.239877     450.416176   22823.962570\n",
       "std         2.983413     447.868272   12479.792473\n",
       "min         1.288400      24.780100    4800.950000\n",
       "25%         3.529500     179.123900   12230.900000\n",
       "50%         4.595500     298.214800   19050.000000\n",
       "75%         6.041600     539.031000   36957.262500\n",
       "max       248.973000    2876.446900  190050.000000"
      ]
     },
     "execution_count": 17,
     "metadata": {},
     "output_type": "execute_result"
    }
   ],
   "source": [
    "train_df_nan_weight_filled_median[[\"rate\", \"valid_miles\", \"weight\"]].describe()"
   ]
  },
  {
   "cell_type": "markdown",
   "id": "1f15327a-804d-40a2-a6f8-c5581bb695bf",
   "metadata": {},
   "source": [
    "## Comparison of rate distribution in different data processing methods"
   ]
  },
  {
   "cell_type": "code",
   "execution_count": 18,
   "id": "e04135ee-8c18-446d-8ed5-f0f1ba8980e7",
   "metadata": {
    "ExecuteTime": {
     "end_time": "2025-02-11T14:41:12.844813Z",
     "start_time": "2025-02-11T14:41:10.005577Z"
    }
   },
   "outputs": [
    {
     "data": {
      "image/png": "[encoded data removed]",
      "text/plain": [
       "<Figure size 1000x400 with 1 Axes>"
      ]
     },
     "metadata": {},
     "output_type": "display_data"
    }
   ],
   "source": [
    "plt.figure(figsize=(10, 4))\n",
    "sns.kdeplot(train_df[\"rate\"], label=\"Original\", fill=True)\n",
    "sns.kdeplot(train_df_nan_weight_deleted[\"rate\"], label=\"Deleted NaN\", fill=True)\n",
    "sns.kdeplot(train_df_nan_weight_filled_median[\"rate\"], label=\"Filled with median\", fill=True)\n",
    "plt.title(\"Comparison of rate distribution in different data processing methods\")\n",
    "plt.legend()\n",
    "plt.show()"
   ]
  },
  {
   "cell_type": "markdown",
   "id": "c982f702-49fb-489d-a5de-017d2d817b79",
   "metadata": {},
   "source": [
    "## Statistics before and after dealing with `NaN`\n",
    "\n",
    "\n",
    "| Dataset                | Mean `rate` | Mean `valid_miles` | Mean `weight` |\n",
    "| ---------------------- | -------------- | --------------------- | ---------------- |\n",
    "| **Original**       | **5.221752**   | **454.873515**        | **23157.860583** |\n",
    "| **Drop `NaN`**      | **5.221425**   | **454.936904**        | **23157.860583** |\n",
    "| **Fill Median** | **5.221752**   | **454.873515**        | **23156.711321** |\n",
    "\n",
    "Вывод:\n",
    "- Удаление `NaN` практически не изменило средние `rate` и `valid_miles` (разница незначительная).\n",
    "- Заполнение медианой также не повлияло на `rate` и `valid_miles`.\n",
    "- Средний `weight` изменился на 0.005% при заполнении медианой, что незначительно.\n",
    "- Оба метода корректны с точки зрения общей статистики."
   ]
  },
  {
   "cell_type": "markdown",
   "id": "7d23e51d-906d-4c86-9456-dd9290cebddc",
   "metadata": {},
   "source": [
    "## Save"
   ]
  },
  {
   "cell_type": "code",
   "execution_count": 19,
   "id": "0c130ac5-03bb-49ba-adb6-4b3cbd5ceb5a",
   "metadata": {},
   "outputs": [],
   "source": [
    "train_df_nan_weight_deleted.to_csv(eda_data_dir / \"train_df_nan_weight_deleted.csv\", index=False)"
   ]
  },
  {
   "cell_type": "code",
   "execution_count": 20,
   "id": "bb97bd89-22e0-4ffa-9220-c2d4bd78d955",
   "metadata": {},
   "outputs": [],
   "source": [
    "train_df_nan_weight_filled_median.to_csv(eda_data_dir / \"train_df_nan_weight_filled_median.csv\", index=False)"
   ]
  },
  {
   "cell_type": "markdown",
   "id": "b6a91c58-a64d-41c6-8324-556d5ef4e0a5",
   "metadata": {},
   "source": [
    "# Save current version of `train_df`"
   ]
  },
  {
   "cell_type": "code",
   "execution_count": 21,
   "id": "c019414d-8a9c-4cc4-b32e-5cb945eff6e4",
   "metadata": {},
   "outputs": [],
   "source": [
    "train_df_nan_weight_deleted.to_csv(eda_data_dir / \"train_df.csv\", index=False)"
   ]
  },
  {
   "cell_type": "code",
   "execution_count": null,
   "id": "2d1dc44f-4c6a-4b80-8810-04c7dc6b1a7b",
   "metadata": {},
   "outputs": [],
   "source": []
  }
 ],
 "metadata": {
  "kernelspec": {
   "display_name": ".venv",
   "language": "python",
   "name": ".venv"
  },
  "language_info": {
   "codemirror_mode": {
    "name": "ipython",
    "version": 3
   },
   "file_extension": ".py",
   "mimetype": "text/x-python",
   "name": "python",
   "nbconvert_exporter": "python",
   "pygments_lexer": "ipython3",
   "version": "3.12.6"
  }
 },
 "nbformat": 4,
 "nbformat_minor": 5
}
